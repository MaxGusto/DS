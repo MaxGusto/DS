{
 "cells": [
  {
   "cell_type": "code",
   "execution_count": null,
   "id": "a6437a5d",
   "metadata": {},
   "outputs": [],
   "source": [
    "import numpy as np\n",
    "import pandas as pd\n",
    "\n",
    "from sklearn.datasets import make_blobs\n",
    "import matplotlib.pyplot as plt\n",
    "from scipy.spatial.distance import cdist \n",
    "\n",
    "centers = 3\n",
    "X, true_labels = make_blobs(n_samples=100, centers=centers, random_state=42)"
   ]
  },
  {
   "cell_type": "code",
   "execution_count": null,
   "id": "3b642afe",
   "metadata": {},
   "outputs": [],
   "source": [
    "true_labels"
   ]
  },
  {
   "cell_type": "code",
   "execution_count": null,
   "id": "4636c9ae",
   "metadata": {
    "scrolled": true
   },
   "outputs": [],
   "source": [
    "X"
   ]
  },
  {
   "cell_type": "code",
   "execution_count": null,
   "id": "f01ad4ab",
   "metadata": {},
   "outputs": [],
   "source": [
    "np.unique(true_labels)"
   ]
  },
  {
   "cell_type": "code",
   "execution_count": null,
   "id": "2bef6ad5",
   "metadata": {},
   "outputs": [],
   "source": [
    "u_labels = np.unique(true_labels)"
   ]
  },
  {
   "cell_type": "code",
   "execution_count": null,
   "id": "d82c2a7c",
   "metadata": {},
   "outputs": [],
   "source": [
    "i = u_labels[0]\n",
    "true_labels == i"
   ]
  },
  {
   "cell_type": "code",
   "execution_count": null,
   "id": "eb085169",
   "metadata": {},
   "outputs": [],
   "source": [
    "X"
   ]
  },
  {
   "cell_type": "code",
   "execution_count": null,
   "id": "b1083222",
   "metadata": {},
   "outputs": [],
   "source": [
    "X[true_labels == i , 0]"
   ]
  },
  {
   "cell_type": "code",
   "execution_count": null,
   "id": "a0c639d4",
   "metadata": {},
   "outputs": [],
   "source": [
    "X[true_labels == i , 1]"
   ]
  },
  {
   "cell_type": "code",
   "execution_count": null,
   "id": "af6abf36",
   "metadata": {},
   "outputs": [],
   "source": [
    "u_labels = np.unique(true_labels)\n",
    "for i in u_labels:\n",
    "    plt.scatter(X[true_labels == i , 0] , X[true_labels == i , 1], label=i)\n",
    "plt.legend()\n",
    "plt.show()"
   ]
  },
  {
   "cell_type": "code",
   "execution_count": null,
   "id": "af06d7c5",
   "metadata": {},
   "outputs": [],
   "source": [
    "k = 3\n",
    "np.random.choice(len(X), k, replace=False)"
   ]
  },
  {
   "cell_type": "code",
   "execution_count": null,
   "id": "fb7fbc2c",
   "metadata": {},
   "outputs": [],
   "source": [
    "idx = np.random.choice(len(X), k, replace=False)\n",
    "centroids = X[idx, :]\n",
    "centroids"
   ]
  },
  {
   "cell_type": "code",
   "execution_count": null,
   "id": "a4727f63",
   "metadata": {},
   "outputs": [],
   "source": [
    "idx"
   ]
  },
  {
   "cell_type": "code",
   "execution_count": null,
   "id": "ce947fb6",
   "metadata": {},
   "outputs": [],
   "source": [
    "u_labels = np.unique(true_labels)\n",
    "for i in u_labels:\n",
    "    plt.scatter(X[true_labels == i , 0] , X[true_labels == i , 1], label=i)\n",
    "plt.scatter(centroids[:, 0], centroids[:, 1], c=\"red\")\n",
    "plt.legend()\n",
    "plt.show()"
   ]
  },
  {
   "cell_type": "code",
   "execution_count": null,
   "id": "ed66a9da",
   "metadata": {
    "scrolled": true
   },
   "outputs": [],
   "source": [
    "distances = cdist(X, centroids, 'euclidean')\n",
    "distances"
   ]
  },
  {
   "cell_type": "code",
   "execution_count": null,
   "id": "ac092484",
   "metadata": {},
   "outputs": [],
   "source": [
    "distances.shape"
   ]
  },
  {
   "cell_type": "code",
   "execution_count": null,
   "id": "f0cd7588",
   "metadata": {},
   "outputs": [],
   "source": [
    "clusters = np.array([np.argmin(i) for i in distances])\n",
    "clusters"
   ]
  },
  {
   "cell_type": "code",
   "execution_count": null,
   "id": "4d70205b",
   "metadata": {},
   "outputs": [],
   "source": [
    "np.argmin(distances, axis=1)"
   ]
  },
  {
   "cell_type": "code",
   "execution_count": null,
   "id": "b0e92b8c",
   "metadata": {},
   "outputs": [],
   "source": [
    "idx = 1"
   ]
  },
  {
   "cell_type": "code",
   "execution_count": null,
   "id": "bbb13732",
   "metadata": {},
   "outputs": [],
   "source": [
    "X[clusters==idx]"
   ]
  },
  {
   "cell_type": "code",
   "execution_count": null,
   "id": "06a7b058",
   "metadata": {
    "scrolled": true
   },
   "outputs": [],
   "source": [
    "X[clusters==idx].mean(axis=0)"
   ]
  },
  {
   "cell_type": "code",
   "execution_count": null,
   "id": "2d5c18d3",
   "metadata": {},
   "outputs": [],
   "source": []
  },
  {
   "cell_type": "code",
   "execution_count": null,
   "id": "c9488d27",
   "metadata": {},
   "outputs": [],
   "source": [
    "no_of_iterations = 1000\n",
    "\n",
    "for _ in range(no_of_iterations): \n",
    "    centroids = []\n",
    "    for idx in range(k):\n",
    "        temp_cent = X[clusters==idx].mean(axis=0) \n",
    "        centroids.append(temp_cent)\n",
    "\n",
    "    centroids = np.vstack(centroids)\n",
    "\n",
    "    distances = cdist(X, centroids, 'euclidean')\n",
    "    clusters = np.array([np.argmin(i) for i in distances])"
   ]
  },
  {
   "cell_type": "code",
   "execution_count": null,
   "id": "3f0893c2",
   "metadata": {},
   "outputs": [],
   "source": [
    "centroids"
   ]
  },
  {
   "cell_type": "code",
   "execution_count": null,
   "id": "ee617e3c",
   "metadata": {},
   "outputs": [],
   "source": [
    "u_labels = np.unique(true_labels)\n",
    "for i in u_labels:\n",
    "    plt.scatter(X[true_labels == i , 0] , X[true_labels == i , 1] , label = i)\n",
    "plt.scatter(centroids[:, 0], centroids[:, 1], c=\"red\")\n",
    "plt.legend()\n",
    "plt.show()"
   ]
  },
  {
   "cell_type": "code",
   "execution_count": null,
   "id": "a853079c",
   "metadata": {},
   "outputs": [],
   "source": []
  },
  {
   "cell_type": "code",
   "execution_count": null,
   "id": "d21440b5",
   "metadata": {},
   "outputs": [],
   "source": [
    "class KMeans():\n",
    "    def __init__(self, clusters_count=2, iterations_count=10000):\n",
    "        self.clusters_count = clusters_count\n",
    "        self.iterations_count = iterations_count\n",
    "    \n",
    "    def fit(self, x):\n",
    "        idx = np.random.choice(len(x), self.clusters_count, replace=False)\n",
    "        centroids = x[idx, :]\n",
    "        distances = cdist(x, centroids ,'euclidean')\n",
    "        clusters = np.argmin(distances, axis=1)\n",
    "\n",
    "        for _ in range(self.iterations_count): \n",
    "            centroids = []\n",
    "            for idx in range(k):\n",
    "                temp_cent = x[clusters==idx].mean(axis=0) \n",
    "                centroids.append(temp_cent)\n",
    "\n",
    "            centroids = np.vstack(centroids)\n",
    "\n",
    "            distances = cdist(x, centroids ,'euclidean')\n",
    "            clusters = np.argmin(distances, axis=1)\n",
    "\n",
    "        return centroids "
   ]
  },
  {
   "cell_type": "code",
   "execution_count": null,
   "id": "2005e5bb",
   "metadata": {},
   "outputs": [],
   "source": [
    "clust = KMeans(3, 1000)"
   ]
  },
  {
   "cell_type": "code",
   "execution_count": null,
   "id": "e96b28ea",
   "metadata": {},
   "outputs": [],
   "source": [
    "clust.fit(X)"
   ]
  },
  {
   "cell_type": "code",
   "execution_count": null,
   "id": "f08814db",
   "metadata": {},
   "outputs": [],
   "source": [
    "u_labels = np.unique(true_labels)\n",
    "for i in u_labels:\n",
    "    plt.scatter(X[true_labels == i , 0] , X[true_labels == i , 1] , label = i)\n",
    "plt.scatter(centroids[:, 0], centroids[:, 1], c=\"red\")\n",
    "plt.legend()\n",
    "plt.show()"
   ]
  },
  {
   "cell_type": "markdown",
   "id": "d3ffed15",
   "metadata": {},
   "source": []
  },
  {
   "cell_type": "code",
   "execution_count": null,
   "id": "c713af79",
   "metadata": {},
   "outputs": [],
   "source": [
    "class KMeans():\n",
    "    def __init__(self, clusters_count=2, iterations_count=100000):\n",
    "        self.clusters_count = clusters_count\n",
    "        self.iterations_count = iterations_count\n",
    "        self.centroids = None\n",
    "    \n",
    "    def fit(self, x):\n",
    "        idx = np.random.choice(len(x), self.clusters_count, replace=False)\n",
    "        self.centroids = x[idx, :]\n",
    "        distances = cdist(x, self.centroids ,'euclidean')\n",
    "        clusters = np.argmin(distances, axis=1)\n",
    "\n",
    "        for _ in range(self.iterations_count): \n",
    "            self.centroids = []\n",
    "            for idx in range(k):\n",
    "                temp_cent = x[clusters==idx].mean(axis=0) \n",
    "                self.centroids.append(temp_cent)\n",
    "\n",
    "            self.centroids = np.vstack(self.centroids)\n",
    "\n",
    "            distances = cdist(x, self.centroids ,'euclidean')\n",
    "            clusters = np.argmin(distances, axis=1)\n",
    "\n",
    "        return self\n",
    "    \n",
    "    def predict(self, x):\n",
    "        distances = cdist(x, self.centroids ,'euclidean')\n",
    "        prediction = np.argmin(distances, axis=1)\n",
    "        return prediction"
   ]
  },
  {
   "cell_type": "code",
   "execution_count": null,
   "id": "aaf9ed7c",
   "metadata": {},
   "outputs": [],
   "source": [
    "clust = KMeans(3, 1000)\n",
    "clust.fit(X)\n",
    "clust.predict(X)"
   ]
  },
  {
   "cell_type": "code",
   "execution_count": null,
   "id": "a6c336d0",
   "metadata": {},
   "outputs": [],
   "source": [
    "pred = clust.predict(X)\n",
    "centroids = clust.centroids"
   ]
  },
  {
   "cell_type": "code",
   "execution_count": null,
   "id": "e4a05f3c",
   "metadata": {},
   "outputs": [],
   "source": [
    "u_labels = np.unique(pred)\n",
    "for i in u_labels:\n",
    "    plt.scatter(X[pred == i , 0] , X[pred == i , 1] , label = i)\n",
    "plt.scatter(centroids[:, 0], centroids[:, 1], c=\"red\")\n",
    "plt.legend()\n",
    "plt.show()"
   ]
  },
  {
   "cell_type": "markdown",
   "id": "f3059ca9",
   "metadata": {},
   "source": []
  },
  {
   "cell_type": "code",
   "execution_count": null,
   "id": "025bec74",
   "metadata": {},
   "outputs": [],
   "source": [
    "class KMeans():\n",
    "    def __init__(self, clusters_count=2, iterations_count=100000, plot_step=10000000):\n",
    "        self.clusters_count = clusters_count\n",
    "        self.iterations_count = iterations_count\n",
    "        self.centroids = None\n",
    "        self.plot_step = plot_step\n",
    "        \n",
    "    \n",
    "    def fit(self, x):\n",
    "        idx = np.random.choice(len(x), self.clusters_count, replace=False)\n",
    "        self.centroids = x[idx, :]\n",
    "        distances = cdist(x, self.centroids ,'euclidean')\n",
    "        points = np.argmin(distances, axis=1)\n",
    "\n",
    "        for i in range(self.iterations_count): \n",
    "            self.centroids = []\n",
    "            for idx in range(k):\n",
    "                temp_cent = x[points==idx].mean(axis=0) \n",
    "                self.centroids.append(temp_cent)\n",
    "\n",
    "            self.centroids = np.vstack(self.centroids)\n",
    "\n",
    "            distances = cdist(x, self.centroids ,'euclidean')\n",
    "            points = np.argmin(distances, axis=1)\n",
    "            \n",
    "            if i % self.plot_step == 0:\n",
    "                u_labels = np.unique(points)\n",
    "                for i in u_labels:\n",
    "                    plt.scatter(x[points == i , 0] , x[points == i , 1] , label = i)\n",
    "                plt.scatter(self.centroids[:, 0], self.centroids[:, 1], c=\"red\")\n",
    "                plt.legend()\n",
    "                plt.show()\n",
    "\n",
    "        return self\n",
    "    \n",
    "    def predict(self, x):\n",
    "        distances = cdist(x, self.centroids ,'euclidean')\n",
    "        prediction = np.argmin(distances, axis=1)\n",
    "        return prediction"
   ]
  },
  {
   "cell_type": "code",
   "execution_count": null,
   "id": "91962c8c",
   "metadata": {},
   "outputs": [],
   "source": [
    "clust = KMeans(3, 10000, 1000)\n",
    "clust.fit(X)\n",
    "clust.predict(X)"
   ]
  },
  {
   "cell_type": "code",
   "execution_count": null,
   "id": "2cb85b29",
   "metadata": {},
   "outputs": [],
   "source": []
  },
  {
   "cell_type": "code",
   "execution_count": null,
   "id": "8e3c7b75",
   "metadata": {},
   "outputs": [],
   "source": [
    "class KMeans():\n",
    "    def __init__(self, clusters_count=2, iterations_count=100000, plot_step=10000000):\n",
    "        self.clusters_count = clusters_count\n",
    "        self.iterations_count = iterations_count\n",
    "        self.centroids = None\n",
    "        self.plot_step = plot_step\n",
    "        \n",
    "    \n",
    "    def fit(self, x):\n",
    "        idx = np.random.choice(len(x), self.clusters_count, replace=False)\n",
    "        self.centroids = x[idx, :]\n",
    "        distances = cdist(x, self.centroids ,'euclidean')\n",
    "        points = np.argmin(distances, axis=1)\n",
    "\n",
    "        for i in range(self.iterations_count): \n",
    "            self.centroids = []\n",
    "            for idx in range(k):\n",
    "                temp_cent = x[points==idx].mean(axis=0) \n",
    "                self.centroids.append(temp_cent)\n",
    "\n",
    "            self.centroids = np.vstack(self.centroids)\n",
    "\n",
    "            distances = cdist(x, self.centroids ,'euclidean')\n",
    "            points = np.argmin(distances, axis=1)\n",
    "            \n",
    "            if i % self.plot_step == 0:\n",
    "                self.plot(x, points)\n",
    "\n",
    "        return self\n",
    "    \n",
    "    def predict(self, x):\n",
    "        distances = cdist(x, self.centroids ,'euclidean')\n",
    "        prediction = np.argmin(distances, axis=1)\n",
    "        return prediction\n",
    "    \n",
    "    def plot(self, x, cluster):\n",
    "        u_labels = np.unique(cluster)\n",
    "        for i in u_labels:\n",
    "            plt.scatter(x[cluster == i , 0] , x[cluster == i , 1] , label=i)\n",
    "        plt.scatter(self.centroids[:, 0], self.centroids[:, 1], c=\"red\")\n",
    "        plt.legend()\n",
    "        plt.show()"
   ]
  },
  {
   "cell_type": "code",
   "execution_count": null,
   "id": "0834db7b",
   "metadata": {},
   "outputs": [],
   "source": [
    "clust = KMeans(3, 10000, 1000)\n",
    "clust.fit(X)\n",
    "clust.predict(X)"
   ]
  },
  {
   "cell_type": "code",
   "execution_count": null,
   "id": "11f2bb1f",
   "metadata": {},
   "outputs": [],
   "source": []
  },
  {
   "cell_type": "code",
   "execution_count": null,
   "id": "3b760dc0",
   "metadata": {},
   "outputs": [],
   "source": []
  },
  {
   "cell_type": "code",
   "execution_count": null,
   "id": "158c77a3",
   "metadata": {},
   "outputs": [],
   "source": [
    "centers = 3\n",
    "X, true_labels = make_blobs(n_samples=100, centers=centers, cluster_std=4, random_state=42)"
   ]
  },
  {
   "cell_type": "code",
   "execution_count": null,
   "id": "9ce0f834",
   "metadata": {},
   "outputs": [],
   "source": [
    "u_labels = np.unique(true_labels)\n",
    "for i in u_labels:\n",
    "    plt.scatter(X[true_labels == i , 0] , X[true_labels == i , 1], label=i)\n",
    "plt.legend()\n",
    "plt.show()"
   ]
  },
  {
   "cell_type": "code",
   "execution_count": null,
   "id": "12679f28",
   "metadata": {},
   "outputs": [],
   "source": [
    "clust = KMeans(3, 10000, 1000)\n",
    "clust.fit(X)\n",
    "clust.predict(X)"
   ]
  },
  {
   "cell_type": "code",
   "execution_count": null,
   "id": "7ce63910",
   "metadata": {},
   "outputs": [],
   "source": []
  }
 ],
 "metadata": {
  "kernelspec": {
   "display_name": "Python 3 (ipykernel)",
   "language": "python",
   "name": "python3"
  },
  "language_info": {
   "codemirror_mode": {
    "name": "ipython",
    "version": 3
   },
   "file_extension": ".py",
   "mimetype": "text/x-python",
   "name": "python",
   "nbconvert_exporter": "python",
   "pygments_lexer": "ipython3",
   "version": "3.11.3"
  }
 },
 "nbformat": 4,
 "nbformat_minor": 5
}
