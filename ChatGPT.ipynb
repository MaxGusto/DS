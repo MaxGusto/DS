{
 "cells": [
  {
   "cell_type": "markdown",
   "id": "5c2c0281-68df-4adf-b6e0-c62ae62a1ad7",
   "metadata": {},
   "source": [
    "# **ChatGPT для использования в Jupyter Notebook**"
   ]
  },
  {
   "cell_type": "code",
   "execution_count": null,
   "id": "2f36fdb4-bf63-4125-8f1b-cfe125c4bc55",
   "metadata": {},
   "outputs": [],
   "source": [
    "!pip install openai"
   ]
  },
  {
   "cell_type": "code",
   "execution_count": null,
   "id": "2f36fdb4-bf63-4125-8f1b-cfe125c4bc55",
   "metadata": {},
   "outputs": [],
   "source": [
    "import openai"
   ]
  },
  {
   "cell_type": "code",
   "execution_count": null,
   "id": "8ed739f0-0e85-48c0-a09e-dca3d4114d75",
   "metadata": {},
   "outputs": [],
   "source": [
    "openai.api_key = 'Ваш ключ к API OpenAI'"
   ]
  },
  {
   "cell_type": "markdown",
   "id": "2148c9db-e12c-4ba7-b7f4-ba281758b521",
   "metadata": {},
   "source": [
    "## Функция отправки и получения сообщений"
   ]
  },
  {
   "cell_type": "code",
   "execution_count": null,
   "id": "3dfb5a72-03ea-49af-a33d-3ddb556b247c",
   "metadata": {},
   "outputs": [],
   "source": [
    "def ask_ChatGpt():\n",
    "    \"\"\"\n",
    "    Функция взаимодействия с ChatGPT\n",
    "    \"\"\"\n",
    "    \n",
    "    # Запрос имени пользователя\n",
    "    user_name = input('Представьтесь, пожалуйста: ')\n",
    "    print('')\n",
    "\n",
    "    # Приветствие пользователя\n",
    "    print('--------------------------------')\n",
    "    print(f'Здравствуйте, {user_name}!')\n",
    "    print('Приятного вам общения с ChatGPT!')\n",
    "    print('--------------------------------')\n",
    "    print('')\n",
    "\n",
    "    # Инициализация списка сообщений с системным сообщением\n",
    "    messages = [{\"role\": \"system\", \"content\": \"Ты - помощник Data Scientist. В ответах ты обязательно используешь разметку Markdown и LaTeX для более удобной записи ответов в Jupyter Notebook.\"}]\n",
    "    max_messages = 10\n",
    "    \n",
    "    # Бесконечный цикл для взаимодействия с моделью\n",
    "    while True:\n",
    "        # Запрос вопроса от пользователя\n",
    "        question = input(f'\\n[ {user_name} ]: ')\n",
    "        messages.append({\"role\": \"user\", \"content\": question})\n",
    "\n",
    "        # Отправка списка сообщений модели ChatGPT\n",
    "        response = openai.ChatCompletion.create(\n",
    "            model=\"gpt-3.5-turbo\",\n",
    "            messages=messages\n",
    "        )\n",
    "\n",
    "        # Получение ответа модели и его вывод\n",
    "        message = response['choices'][0]['message']['content']\n",
    "        print('')\n",
    "        print('[ ChatGPT ]:', message)\n",
    "        print('')\n",
    "\n",
    "        # Добавление ответа модели в список сообщений\n",
    "        messages.append({\"role\": \"system\", \"content\": message})\n",
    "\n",
    "        # Удаление старых сообщений, если их количество превышает заданный предел\n",
    "        if len(messages) >= max_messages:\n",
    "            messages.pop(1)\n",
    "            messages.pop(1)"
   ]
  },
  {
   "cell_type": "markdown",
   "id": "533bec2f-70e8-4186-ace3-072eca82cc8f",
   "metadata": {},
   "source": [
    "### Для запуска общения с ботом ChatGPT запустите слкдующую ячейку"
   ]
  },
  {
   "cell_type": "code",
   "execution_count": null,
   "id": "73609641-6662-4cde-bda9-91d5cacfd4e2",
   "metadata": {},
   "outputs": [],
   "source": [
    "ask_ChatGpt()"
   ]
  }
 ],
 "metadata": {
  "kernelspec": {
   "display_name": "Python 3 (ipykernel)",
   "language": "python",
   "name": "python3"
  },
  "language_info": {
   "codemirror_mode": {
    "name": "ipython",
    "version": 3
   },
   "file_extension": ".py",
   "mimetype": "text/x-python",
   "name": "python",
   "nbconvert_exporter": "python",
   "pygments_lexer": "ipython3",
   "version": "3.10.12"
  }
 },
 "nbformat": 4,
 "nbformat_minor": 5
}
